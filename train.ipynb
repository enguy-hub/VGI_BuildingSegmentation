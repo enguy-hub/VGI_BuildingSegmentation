{
 "cells": [
  {
   "cell_type": "code",
   "execution_count": 1,
   "metadata": {},
   "outputs": [],
   "source": [
    "import argparse\n",
    "import logging\n",
    "import os\n",
    "import random\n",
    "import sys\n",
    "import torch\n",
    "import torch.nn as nn\n",
    "import torch.nn.functional as F\n",
    "import torchvision.transforms as transforms\n",
    "import torchvision.transforms.functional as TF\n",
    "from pathlib import Path\n",
    "from torch import optim\n",
    "#from torch.utils.data import DataLoader, random_split\n",
    "from tqdm import tqdm\n",
    "from PIL import Image\n",
    "import wandb\n",
    "from evaluate import evaluate\n",
    "from unet import UNet\n",
    "#from utils.data_loading import BasicDataset, CarvanaDataset\n",
    "from utils.dice_score import dice_loss\n",
    "import numpy as np\n",
    "from os import listdir\n",
    "from os.path import splitext, isfile, join\n",
    "from pathlib import Path\n",
    "from torch.utils.data import Dataset\n",
    "image_size = 256"
   ]
  },
  {
   "cell_type": "code",
   "execution_count": 2,
   "metadata": {},
   "outputs": [],
   "source": [
    "\n",
    "#from functools import lru_cache\n",
    "#from functools import partial\n",
    "#from itertools import repeat\n",
    "#from multiprocessing import Pool\n",
    "\n",
    "#from tqdm import tqdm\n",
    "\n",
    "\n",
    "def load_image(filename):\n",
    "    ext = splitext(filename)[1]\n",
    "    if ext == '.npy':\n",
    "        return Image.fromarray(np.load(filename))\n",
    "    elif ext in ['.pt', '.pth']:\n",
    "        return Image.fromarray(torch.load(filename).numpy())\n",
    "    else:\n",
    "        return Image.open(filename)\n",
    "\n",
    "\n",
    "def unique_mask_values(idx, mask_dir, mask_suffix):\n",
    "    mask_file = list(mask_dir.glob(idx + mask_suffix + '.*'))[0]\n",
    "    mask = np.asarray(load_image(mask_file))\n",
    "    if mask.ndim == 2:\n",
    "        return np.unique(mask)\n",
    "    elif mask.ndim == 3:\n",
    "        mask = mask.reshape(-1, mask.shape[-1])\n",
    "        return np.unique(mask, axis=0)\n",
    "    else:\n",
    "        raise ValueError(f'Loaded masks should have 2 or 3 dimensions, found {mask.ndim}')\n",
    "class BasicDataset(Dataset):\n",
    "    def __init__(self, images_dir: str, mask_dir: str, scale: float = 1.0, mask_suffix: str = ''):\n",
    "        self.images_dir = Path(images_dir)\n",
    "        self.mask_dir = Path(mask_dir)\n",
    "        assert 0 < scale <= 1, 'Scale must be between 0 and 1'\n",
    "        self.scale = scale\n",
    "        self.mask_suffix = mask_suffix\n",
    "\n",
    "        self.ids = [splitext(file)[0] for file in listdir(images_dir) if isfile(join(images_dir, file)) and not file.startswith('.')]\n",
    "        if not self.ids:\n",
    "            raise RuntimeError(f'No input file found in {images_dir}, make sure you put your images there')\n",
    "        self.data = torch.zeros(len(self.ids),image_size,image_size,3)\n",
    "        self.mask = torch.zeros(len(self.ids),image_size,image_size)\n",
    "        for idx, name in enumerate(self.ids):\n",
    "            #name = self.ids[idx]\n",
    "            mask_file = list(self.mask_dir.glob(name + self.mask_suffix + '.*'))\n",
    "            img_file = list(self.images_dir.glob(name + '.*'))\n",
    "\n",
    "            assert len(img_file) == 1, f'Either no image or multiple images found for the ID {name}: {img_file}'\n",
    "            assert len(mask_file) == 1, f'Either no mask or multiple masks found for the ID {name}: {mask_file}'\n",
    "            mask = np.array(load_image(mask_file[0]))\n",
    "            mask[np.where(mask!=0)]=1\n",
    "            mask = mask[:,:,0].astype(np.uint8)\n",
    "            img = np.asarray(load_image(img_file[0]))\n",
    "            \n",
    "            self.data[idx]=torch.tensor(img,dtype=torch.float32).contiguous()\n",
    "            self.mask[idx]=torch.tensor(mask,dtype=torch.int).contiguous()\n",
    "\n",
    "    def __len__(self):\n",
    "        return len(self.ids)\n",
    "    \n",
    "\n",
    "\n",
    "    def process():\n",
    "        pass\n",
    "\n",
    "        \n",
    "    "
   ]
  },
  {
   "cell_type": "code",
   "execution_count": 3,
   "metadata": {},
   "outputs": [],
   "source": [
    "dir_img = Path('./data/imgs/')\n",
    "dir_mask = Path('./data/masks/')\n",
    "dir_checkpoint = Path('./checkpoints/')"
   ]
  },
  {
   "cell_type": "code",
   "execution_count": 4,
   "metadata": {},
   "outputs": [],
   "source": [
    "dataset = BasicDataset(dir_img, dir_mask, 1)"
   ]
  },
  {
   "cell_type": "code",
   "execution_count": 5,
   "metadata": {},
   "outputs": [
    {
     "data": {
      "text/plain": [
       "torch.Size([256, 256])"
      ]
     },
     "execution_count": 5,
     "metadata": {},
     "output_type": "execute_result"
    }
   ],
   "source": [
    "dataset.mask[0].shape"
   ]
  },
  {
   "cell_type": "code",
   "execution_count": 6,
   "metadata": {},
   "outputs": [],
   "source": [
    "num_data=dataset.data.shape[0]\n",
    "val_percent= 0.1\n",
    "num_val=int(num_data*val_percent)\n",
    "num_train=num_data-num_val\n",
    "list = [i for i in range(num_data)]\n",
    "train_ids=np.random.choice(list,size=num_train,replace=False)\n",
    "val_ids=np.setdiff1d(list,train_ids)\n",
    "train_ids=np.sort(train_ids)\n",
    "val_ids=np.sort(val_ids)\n",
    "train_data=torch.zeros(num_train,image_size,image_size,3)\n",
    "train_mask=torch.zeros(num_train,image_size,image_size)\n",
    "val_data=torch.zeros(num_val,image_size,image_size,3)\n",
    "val_mask=torch.zeros(num_val,image_size,image_size)\n",
    "for i in range(num_train):\n",
    "    train_data[i]=dataset.data[train_ids[i]]\n",
    "    train_mask[i]=dataset.mask[train_ids[i]]\n",
    "for i in range(num_val):\n",
    "    val_data[i]=dataset.data[val_ids[i]]\n",
    "    val_mask[i]=dataset.mask[val_ids[i]]\n",
    "train_data=train_data.permute(0,3,1,2)\n",
    "val_data=val_data.permute(0,3,1,2)\n",
    "\n",
    "\n",
    "\n",
    "    "
   ]
  },
  {
   "cell_type": "code",
   "execution_count": 7,
   "metadata": {},
   "outputs": [
    {
     "name": "stderr",
     "output_type": "stream",
     "text": [
      "Failed to detect the name of this notebook, you can set it manually with the WANDB_NOTEBOOK_NAME environment variable to enable code saving.\n",
      "\u001b[34m\u001b[1mwandb\u001b[0m: Currently logged in as: \u001b[33manony-moose-378003133848583373\u001b[0m. Use \u001b[1m`wandb login --relogin`\u001b[0m to force relogin\n"
     ]
    },
    {
     "data": {
      "application/vnd.jupyter.widget-view+json": {
       "model_id": "96dd7d90cd614ba8bc3cb94c026add82",
       "version_major": 2,
       "version_minor": 0
      },
      "text/plain": [
       "VBox(children=(Label(value='Waiting for wandb.init()...\\r'), FloatProgress(value=0.016741174298416202, max=1.0…"
      ]
     },
     "metadata": {},
     "output_type": "display_data"
    },
    {
     "data": {
      "text/html": [
       "wandb version 0.15.5 is available!  To upgrade, please run:\n",
       " $ pip install wandb --upgrade"
      ],
      "text/plain": [
       "<IPython.core.display.HTML object>"
      ]
     },
     "metadata": {},
     "output_type": "display_data"
    },
    {
     "data": {
      "text/html": [
       "Tracking run with wandb version 0.13.5"
      ],
      "text/plain": [
       "<IPython.core.display.HTML object>"
      ]
     },
     "metadata": {},
     "output_type": "display_data"
    },
    {
     "data": {
      "text/html": [
       "Run data is saved locally in <code>/Users/siruiwang/Documents/ESPACE-LECTURE/3rd_semester/Big_Geospatial_Data/Pytorch-UNet/wandb/run-20230713_023334-2bns26aq</code>"
      ],
      "text/plain": [
       "<IPython.core.display.HTML object>"
      ]
     },
     "metadata": {},
     "output_type": "display_data"
    },
    {
     "data": {
      "text/html": [
       "Syncing run <strong><a href=\"https://wandb.ai/anony-moose-378003133848583373/U-Net/runs/2bns26aq?apiKey=51c8a6f6bc4ee2dd5adffecc14e6c77daa3baa2f\" target=\"_blank\">expert-vortex-27</a></strong> to <a href=\"https://wandb.ai/anony-moose-378003133848583373/U-Net?apiKey=51c8a6f6bc4ee2dd5adffecc14e6c77daa3baa2f\" target=\"_blank\">Weights & Biases</a> (<a href=\"https://wandb.me/run\" target=\"_blank\">docs</a>)<br/>"
      ],
      "text/plain": [
       "<IPython.core.display.HTML object>"
      ]
     },
     "metadata": {},
     "output_type": "display_data"
    }
   ],
   "source": [
    "epochs = 200\n",
    "batch_size=256\n",
    "learning_rate = 1e-5\n",
    "val_percent= 0.1\n",
    "save_checkpoint = True\n",
    "img_scale = 0.5\n",
    "amp = False\n",
    "weight_decay = 1e-8\n",
    "momentum = 0.999\n",
    "gradient_clipping = 1.0\n",
    "n_train = len(train_data)\n",
    "n_val = len(val_data)\n",
    "class args:\n",
    "    epochs = 5\n",
    "    batch_size = 1\n",
    "    lr = 1e-5\n",
    "    load = False\n",
    "    scale = 0.5\n",
    "    val = 10.0\n",
    "    amp = False\n",
    "    bilinear = False\n",
    "    classes = 2\n",
    "\n",
    "device = torch.device('cuda' if torch.cuda.is_available() else 'cpu')\n",
    "model = UNet(n_channels=3, n_classes=args.classes, bilinear=args.bilinear)\n",
    "model = model.to(memory_format=torch.channels_last)\n",
    "experiment = wandb.init(project='U-Net', resume='allow', anonymous='must')\n",
    "experiment.config.update(\n",
    "        dict(epochs=epochs, batch_size=batch_size, learning_rate=learning_rate,\n",
    "             val_percent=val_percent, save_checkpoint=save_checkpoint, img_scale=img_scale, amp=amp)\n",
    "    )\n",
    "optimizer = optim.RMSprop(model.parameters(),\n",
    "                              lr=learning_rate, weight_decay=weight_decay, momentum=momentum, foreach=True)\n",
    "scheduler = optim.lr_scheduler.ReduceLROnPlateau(optimizer, 'max', patience=5)  # goal: maximize Dice score\n",
    "grad_scaler = torch.cuda.amp.GradScaler(enabled=amp)\n",
    "criterion = nn.CrossEntropyLoss() if model.n_classes > 1 else nn.BCEWithLogitsLoss()\n",
    "\n",
    "\n"
   ]
  },
  {
   "cell_type": "code",
   "execution_count": 12,
   "metadata": {},
   "outputs": [],
   "source": [
    "def train():\n",
    "    for epoch in range(1, epochs + 1):\n",
    "      \n",
    "        model.train()\n",
    "        epoch_loss = 0\n",
    "        train_acc = []\n",
    "        global_step = 0\n",
    "        \n",
    "        with tqdm(total=n_train, desc=f'Epoch {epoch}/{epochs}', unit='img') as pbar:\n",
    "                images, true_masks = train_data, train_mask\n",
    "\n",
    "                images = images.to(device=device, dtype=torch.float32, memory_format=torch.channels_last)\n",
    "                true_masks = true_masks.to(device=device, dtype=torch.long)\n",
    "\n",
    "                with torch.autocast(device.type if device.type != 'mps' else 'cpu', enabled=amp):\n",
    "                    masks_pred = model(images)\n",
    "                    if model.n_classes == 1:\n",
    "                        loss = criterion(masks_pred.squeeze(1), true_masks.float())\n",
    "                        loss += dice_loss(F.sigmoid(masks_pred.squeeze(1)), true_masks.float(), multiclass=False)\n",
    "                        train_accuracy = ((F.sigmoid(masks_pred.squeeze(1)) > 0.5).float() == true_masks).float().mean()\n",
    "\n",
    "                    else:\n",
    "                        loss = criterion(masks_pred, true_masks)\n",
    "                        loss += dice_loss(\n",
    "                            F.softmax(masks_pred, dim=1).float(),\n",
    "                            F.one_hot(true_masks, model.n_classes).permute(0, 3, 1, 2).float(),\n",
    "                            multiclass=True\n",
    "                        )\n",
    "                        train_accuracy = (torch.argmax(masks_pred, dim=1) == true_masks).float().mean()\n",
    "\n",
    "                optimizer.zero_grad(set_to_none=True)\n",
    "                grad_scaler.scale(loss).backward()\n",
    "                torch.nn.utils.clip_grad_norm_(model.parameters(), gradient_clipping)\n",
    "                grad_scaler.step(optimizer)\n",
    "                grad_scaler.update()\n",
    "                \n",
    "                pbar.update(images.shape[0])\n",
    "                global_step += 1\n",
    "                train_acc = train_acc.append(train_accuracy.item())\n",
    "                epoch_loss += loss.item()\n",
    "                experiment.log({\n",
    "                    'train loss': loss.item(),\n",
    "                    'step': global_step,\n",
    "                    'epoch': epoch\n",
    "                })\n",
    "                pbar.set_postfix(**{'loss (batch)': loss.item(), 'accuracy (batch)': train_accuracy.item()})\n",
    "                if train_accuracy >=0.99:\n",
    "                    break\n",
    "    return  train_acc, epoch_loss\n"
   ]
  },
  {
   "cell_type": "code",
   "execution_count": 13,
   "metadata": {},
   "outputs": [
    {
     "name": "stderr",
     "output_type": "stream",
     "text": [
      "Epoch 1/200:   0%|          | 0/63 [00:00<?, ?img/s]"
     ]
    },
    {
     "name": "stderr",
     "output_type": "stream",
     "text": [
      "Epoch 1/200: 100%|██████████| 63/63 [01:15<00:00,  1.19s/img, accuracy (batch)=0.567, loss (batch)=1.17]\n",
      "Epoch 2/200: 100%|██████████| 63/63 [01:16<00:00,  1.21s/img, accuracy (batch)=0.729, loss (batch)=1.06]\n",
      "Epoch 3/200: 100%|██████████| 63/63 [01:14<00:00,  1.18s/img, accuracy (batch)=0.792, loss (batch)=0.964]\n",
      "Epoch 4/200: 100%|██████████| 63/63 [01:15<00:00,  1.20s/img, accuracy (batch)=0.812, loss (batch)=0.901]\n",
      "Epoch 5/200: 100%|██████████| 63/63 [01:16<00:00,  1.22s/img, accuracy (batch)=0.836, loss (batch)=0.848]\n",
      "Epoch 6/200: 100%|██████████| 63/63 [01:15<00:00,  1.20s/img, accuracy (batch)=0.862, loss (batch)=0.789]\n",
      "Epoch 7/200: 100%|██████████| 63/63 [01:18<00:00,  1.24s/img, accuracy (batch)=0.882, loss (batch)=0.729]\n",
      "Epoch 8/200: 100%|██████████| 63/63 [01:17<00:00,  1.23s/img, accuracy (batch)=0.904, loss (batch)=0.676]\n",
      "Epoch 9/200: 100%|██████████| 63/63 [01:13<00:00,  1.17s/img, accuracy (batch)=0.92, loss (batch)=0.622]\n",
      "Epoch 10/200: 100%|██████████| 63/63 [01:17<00:00,  1.24s/img, accuracy (batch)=0.925, loss (batch)=0.589]\n",
      "Epoch 11/200: 100%|██████████| 63/63 [01:16<00:00,  1.22s/img, accuracy (batch)=0.931, loss (batch)=0.552]\n",
      "Epoch 12/200: 100%|██████████| 63/63 [01:14<00:00,  1.18s/img, accuracy (batch)=0.933, loss (batch)=0.524]\n",
      "Epoch 13/200: 100%|██████████| 63/63 [01:13<00:00,  1.17s/img, accuracy (batch)=0.934, loss (batch)=0.504]\n",
      "Epoch 14/200: 100%|██████████| 63/63 [01:13<00:00,  1.16s/img, accuracy (batch)=0.937, loss (batch)=0.485]\n",
      "Epoch 15/200: 100%|██████████| 63/63 [01:14<00:00,  1.18s/img, accuracy (batch)=0.94, loss (batch)=0.463]\n",
      "Epoch 16/200: 100%|██████████| 63/63 [01:14<00:00,  1.18s/img, accuracy (batch)=0.941, loss (batch)=0.445]\n",
      "Epoch 17/200: 100%|██████████| 63/63 [01:14<00:00,  1.18s/img, accuracy (batch)=0.941, loss (batch)=0.435]\n",
      "Epoch 18/200: 100%|██████████| 63/63 [01:13<00:00,  1.17s/img, accuracy (batch)=0.942, loss (batch)=0.419]\n",
      "Epoch 19/200: 100%|██████████| 63/63 [01:13<00:00,  1.17s/img, accuracy (batch)=0.943, loss (batch)=0.407]\n",
      "Epoch 20/200: 100%|██████████| 63/63 [01:14<00:00,  1.18s/img, accuracy (batch)=0.945, loss (batch)=0.392]\n",
      "Epoch 21/200: 100%|██████████| 63/63 [01:15<00:00,  1.20s/img, accuracy (batch)=0.945, loss (batch)=0.387]\n",
      "Epoch 22/200: 100%|██████████| 63/63 [01:15<00:00,  1.19s/img, accuracy (batch)=0.946, loss (batch)=0.378]\n",
      "Epoch 23/200: 100%|██████████| 63/63 [01:15<00:00,  1.20s/img, accuracy (batch)=0.947, loss (batch)=0.368]\n",
      "Epoch 24/200: 100%|██████████| 63/63 [01:15<00:00,  1.20s/img, accuracy (batch)=0.948, loss (batch)=0.356]\n",
      "Epoch 25/200: 100%|██████████| 63/63 [01:15<00:00,  1.20s/img, accuracy (batch)=0.948, loss (batch)=0.351]\n",
      "Epoch 26/200: 100%|██████████| 63/63 [01:15<00:00,  1.19s/img, accuracy (batch)=0.949, loss (batch)=0.341]\n",
      "Epoch 27/200: 100%|██████████| 63/63 [01:15<00:00,  1.19s/img, accuracy (batch)=0.949, loss (batch)=0.332]\n",
      "Epoch 28/200: 100%|██████████| 63/63 [01:15<00:00,  1.20s/img, accuracy (batch)=0.949, loss (batch)=0.324]\n",
      "Epoch 29/200: 100%|██████████| 63/63 [01:18<00:00,  1.25s/img, accuracy (batch)=0.95, loss (batch)=0.316]\n",
      "Epoch 30/200: 100%|██████████| 63/63 [01:14<00:00,  1.18s/img, accuracy (batch)=0.951, loss (batch)=0.307]\n",
      "Epoch 31/200: 100%|██████████| 63/63 [01:13<00:00,  1.17s/img, accuracy (batch)=0.952, loss (batch)=0.297]\n",
      "Epoch 32/200: 100%|██████████| 63/63 [01:14<00:00,  1.18s/img, accuracy (batch)=0.952, loss (batch)=0.291]\n",
      "Epoch 33/200: 100%|██████████| 63/63 [01:13<00:00,  1.17s/img, accuracy (batch)=0.953, loss (batch)=0.283]\n",
      "Epoch 34/200: 100%|██████████| 63/63 [01:13<00:00,  1.17s/img, accuracy (batch)=0.953, loss (batch)=0.277]\n",
      "Epoch 35/200: 100%|██████████| 63/63 [01:13<00:00,  1.17s/img, accuracy (batch)=0.954, loss (batch)=0.27]\n",
      "Epoch 36/200: 100%|██████████| 63/63 [01:13<00:00,  1.17s/img, accuracy (batch)=0.954, loss (batch)=0.261]\n",
      "Epoch 37/200: 100%|██████████| 63/63 [01:17<00:00,  1.23s/img, accuracy (batch)=0.954, loss (batch)=0.256]\n",
      "Epoch 38/200: 100%|██████████| 63/63 [01:32<00:00,  1.46s/img, accuracy (batch)=0.954, loss (batch)=0.251]\n",
      "Epoch 39/200: 100%|██████████| 63/63 [01:25<00:00,  1.35s/img, accuracy (batch)=0.954, loss (batch)=0.245]\n",
      "Epoch 40/200: 100%|██████████| 63/63 [01:29<00:00,  1.42s/img, accuracy (batch)=0.955, loss (batch)=0.24]\n",
      "Epoch 41/200: 100%|██████████| 63/63 [01:23<00:00,  1.32s/img, accuracy (batch)=0.956, loss (batch)=0.233]\n",
      "Epoch 42/200: 100%|██████████| 63/63 [01:22<00:00,  1.32s/img, accuracy (batch)=0.957, loss (batch)=0.228]\n",
      "Epoch 43/200: 100%|██████████| 63/63 [01:22<00:00,  1.31s/img, accuracy (batch)=0.957, loss (batch)=0.224]\n",
      "Epoch 44/200: 100%|██████████| 63/63 [01:22<00:00,  1.32s/img, accuracy (batch)=0.958, loss (batch)=0.22]\n",
      "Epoch 45/200: 100%|██████████| 63/63 [01:20<00:00,  1.28s/img, accuracy (batch)=0.958, loss (batch)=0.215]\n",
      "Epoch 46/200: 100%|██████████| 63/63 [01:15<00:00,  1.19s/img, accuracy (batch)=0.958, loss (batch)=0.212]\n",
      "Epoch 47/200: 100%|██████████| 63/63 [01:13<00:00,  1.17s/img, accuracy (batch)=0.958, loss (batch)=0.208]\n",
      "Epoch 48/200: 100%|██████████| 63/63 [01:13<00:00,  1.16s/img, accuracy (batch)=0.959, loss (batch)=0.204]\n",
      "Epoch 49/200: 100%|██████████| 63/63 [01:13<00:00,  1.16s/img, accuracy (batch)=0.959, loss (batch)=0.201]\n",
      "Epoch 50/200: 100%|██████████| 63/63 [01:13<00:00,  1.16s/img, accuracy (batch)=0.96, loss (batch)=0.198]\n",
      "Epoch 51/200: 100%|██████████| 63/63 [01:13<00:00,  1.17s/img, accuracy (batch)=0.96, loss (batch)=0.194]\n",
      "Epoch 52/200: 100%|██████████| 63/63 [01:13<00:00,  1.17s/img, accuracy (batch)=0.96, loss (batch)=0.191]\n",
      "Epoch 53/200: 100%|██████████| 63/63 [01:13<00:00,  1.16s/img, accuracy (batch)=0.961, loss (batch)=0.189]\n",
      "Epoch 54/200: 100%|██████████| 63/63 [01:13<00:00,  1.17s/img, accuracy (batch)=0.961, loss (batch)=0.187]\n",
      "Epoch 55/200: 100%|██████████| 63/63 [01:13<00:00,  1.16s/img, accuracy (batch)=0.961, loss (batch)=0.185]\n",
      "Epoch 56/200: 100%|██████████| 63/63 [01:13<00:00,  1.17s/img, accuracy (batch)=0.962, loss (batch)=0.182]\n",
      "Epoch 57/200: 100%|██████████| 63/63 [01:14<00:00,  1.18s/img, accuracy (batch)=0.962, loss (batch)=0.18]\n",
      "Epoch 58/200: 100%|██████████| 63/63 [01:13<00:00,  1.16s/img, accuracy (batch)=0.962, loss (batch)=0.179]\n",
      "Epoch 59/200: 100%|██████████| 63/63 [01:14<00:00,  1.18s/img, accuracy (batch)=0.962, loss (batch)=0.178]\n",
      "Epoch 60/200: 100%|██████████| 63/63 [01:14<00:00,  1.19s/img, accuracy (batch)=0.962, loss (batch)=0.177]\n",
      "Epoch 61/200: 100%|██████████| 63/63 [01:14<00:00,  1.18s/img, accuracy (batch)=0.962, loss (batch)=0.177]\n",
      "Epoch 62/200: 100%|██████████| 63/63 [01:14<00:00,  1.18s/img, accuracy (batch)=0.963, loss (batch)=0.175]\n",
      "Epoch 63/200: 100%|██████████| 63/63 [01:14<00:00,  1.18s/img, accuracy (batch)=0.963, loss (batch)=0.174]\n",
      "Epoch 64/200: 100%|██████████| 63/63 [01:16<00:00,  1.21s/img, accuracy (batch)=0.963, loss (batch)=0.173]\n",
      "Epoch 65/200: 100%|██████████| 63/63 [01:14<00:00,  1.18s/img, accuracy (batch)=0.964, loss (batch)=0.171]\n",
      "Epoch 66/200: 100%|██████████| 63/63 [01:14<00:00,  1.18s/img, accuracy (batch)=0.964, loss (batch)=0.17]\n",
      "Epoch 67/200: 100%|██████████| 63/63 [01:13<00:00,  1.17s/img, accuracy (batch)=0.964, loss (batch)=0.169]\n",
      "Epoch 68/200: 100%|██████████| 63/63 [01:13<00:00,  1.17s/img, accuracy (batch)=0.964, loss (batch)=0.168]\n",
      "Epoch 69/200: 100%|██████████| 63/63 [01:13<00:00,  1.17s/img, accuracy (batch)=0.964, loss (batch)=0.168]\n",
      "Epoch 70/200: 100%|██████████| 63/63 [01:13<00:00,  1.16s/img, accuracy (batch)=0.965, loss (batch)=0.167]\n",
      "Epoch 71/200: 100%|██████████| 63/63 [01:13<00:00,  1.16s/img, accuracy (batch)=0.965, loss (batch)=0.166]\n",
      "Epoch 72/200: 100%|██████████| 63/63 [01:13<00:00,  1.17s/img, accuracy (batch)=0.965, loss (batch)=0.164]\n",
      "Epoch 73/200: 100%|██████████| 63/63 [01:14<00:00,  1.18s/img, accuracy (batch)=0.965, loss (batch)=0.164]\n",
      "Epoch 74/200: 100%|██████████| 63/63 [01:13<00:00,  1.16s/img, accuracy (batch)=0.966, loss (batch)=0.163]\n",
      "Epoch 75/200: 100%|██████████| 63/63 [01:13<00:00,  1.16s/img, accuracy (batch)=0.966, loss (batch)=0.162]\n",
      "Epoch 76/200: 100%|██████████| 63/63 [01:13<00:00,  1.16s/img, accuracy (batch)=0.966, loss (batch)=0.16]\n",
      "Epoch 77/200: 100%|██████████| 63/63 [01:14<00:00,  1.18s/img, accuracy (batch)=0.966, loss (batch)=0.159]\n",
      "Epoch 78/200: 100%|██████████| 63/63 [01:14<00:00,  1.18s/img, accuracy (batch)=0.966, loss (batch)=0.158]\n",
      "Epoch 79/200: 100%|██████████| 63/63 [01:15<00:00,  1.19s/img, accuracy (batch)=0.967, loss (batch)=0.157]\n",
      "Epoch 80/200: 100%|██████████| 63/63 [01:15<00:00,  1.20s/img, accuracy (batch)=0.967, loss (batch)=0.155]\n",
      "Epoch 81/200: 100%|██████████| 63/63 [01:15<00:00,  1.21s/img, accuracy (batch)=0.967, loss (batch)=0.154]\n",
      "Epoch 82/200: 100%|██████████| 63/63 [01:15<00:00,  1.20s/img, accuracy (batch)=0.967, loss (batch)=0.152]\n",
      "Epoch 83/200: 100%|██████████| 63/63 [01:15<00:00,  1.20s/img, accuracy (batch)=0.967, loss (batch)=0.151]\n",
      "Epoch 84/200: 100%|██████████| 63/63 [01:15<00:00,  1.21s/img, accuracy (batch)=0.967, loss (batch)=0.149]\n",
      "Epoch 85/200: 100%|██████████| 63/63 [01:15<00:00,  1.20s/img, accuracy (batch)=0.967, loss (batch)=0.148]\n",
      "Epoch 86/200: 100%|██████████| 63/63 [01:13<00:00,  1.17s/img, accuracy (batch)=0.968, loss (batch)=0.147]\n",
      "Epoch 87/200: 100%|██████████| 63/63 [01:12<00:00,  1.16s/img, accuracy (batch)=0.968, loss (batch)=0.145]\n",
      "Epoch 88/200: 100%|██████████| 63/63 [01:13<00:00,  1.17s/img, accuracy (batch)=0.968, loss (batch)=0.144]\n",
      "Epoch 89/200: 100%|██████████| 63/63 [01:13<00:00,  1.17s/img, accuracy (batch)=0.968, loss (batch)=0.142]\n",
      "Epoch 90/200: 100%|██████████| 63/63 [01:13<00:00,  1.16s/img, accuracy (batch)=0.968, loss (batch)=0.141]\n",
      "Epoch 91/200: 100%|██████████| 63/63 [01:13<00:00,  1.16s/img, accuracy (batch)=0.969, loss (batch)=0.139]\n",
      "Epoch 92/200: 100%|██████████| 63/63 [01:13<00:00,  1.17s/img, accuracy (batch)=0.969, loss (batch)=0.138]\n",
      "Epoch 93/200: 100%|██████████| 63/63 [01:13<00:00,  1.16s/img, accuracy (batch)=0.969, loss (batch)=0.136]\n",
      "Epoch 94/200: 100%|██████████| 63/63 [01:14<00:00,  1.18s/img, accuracy (batch)=0.969, loss (batch)=0.135]\n",
      "Epoch 95/200: 100%|██████████| 63/63 [01:15<00:00,  1.19s/img, accuracy (batch)=0.969, loss (batch)=0.134]\n",
      "Epoch 96/200: 100%|██████████| 63/63 [01:20<00:00,  1.27s/img, accuracy (batch)=0.969, loss (batch)=0.133]\n",
      "Epoch 97/200: 100%|██████████| 63/63 [01:22<00:00,  1.30s/img, accuracy (batch)=0.969, loss (batch)=0.131]\n",
      "Epoch 98/200: 100%|██████████| 63/63 [01:21<00:00,  1.30s/img, accuracy (batch)=0.969, loss (batch)=0.13]\n",
      "Epoch 99/200: 100%|██████████| 63/63 [01:22<00:00,  1.31s/img, accuracy (batch)=0.97, loss (batch)=0.129]\n",
      "Epoch 100/200: 100%|██████████| 63/63 [01:19<00:00,  1.26s/img, accuracy (batch)=0.97, loss (batch)=0.127]\n",
      "Epoch 101/200: 100%|██████████| 63/63 [01:15<00:00,  1.20s/img, accuracy (batch)=0.97, loss (batch)=0.126]\n",
      "Epoch 102/200: 100%|██████████| 63/63 [01:15<00:00,  1.20s/img, accuracy (batch)=0.97, loss (batch)=0.125]\n",
      "Epoch 103/200: 100%|██████████| 63/63 [01:15<00:00,  1.20s/img, accuracy (batch)=0.97, loss (batch)=0.124]\n",
      "Epoch 104/200: 100%|██████████| 63/63 [01:15<00:00,  1.19s/img, accuracy (batch)=0.971, loss (batch)=0.123]\n",
      "Epoch 105/200: 100%|██████████| 63/63 [01:13<00:00,  1.17s/img, accuracy (batch)=0.971, loss (batch)=0.122]\n",
      "Epoch 106/200: 100%|██████████| 63/63 [01:13<00:00,  1.17s/img, accuracy (batch)=0.971, loss (batch)=0.121]\n",
      "Epoch 107/200: 100%|██████████| 63/63 [01:14<00:00,  1.18s/img, accuracy (batch)=0.971, loss (batch)=0.12]\n",
      "Epoch 108/200: 100%|██████████| 63/63 [01:14<00:00,  1.18s/img, accuracy (batch)=0.971, loss (batch)=0.119]\n",
      "Epoch 109/200: 100%|██████████| 63/63 [01:14<00:00,  1.18s/img, accuracy (batch)=0.971, loss (batch)=0.118]\n",
      "Epoch 110/200: 100%|██████████| 63/63 [01:13<00:00,  1.16s/img, accuracy (batch)=0.972, loss (batch)=0.117]\n",
      "Epoch 111/200: 100%|██████████| 63/63 [01:12<00:00,  1.16s/img, accuracy (batch)=0.972, loss (batch)=0.116]\n",
      "Epoch 112/200: 100%|██████████| 63/63 [01:14<00:00,  1.18s/img, accuracy (batch)=0.972, loss (batch)=0.116]\n",
      "Epoch 113/200: 100%|██████████| 63/63 [01:13<00:00,  1.16s/img, accuracy (batch)=0.972, loss (batch)=0.115]\n",
      "Epoch 114/200: 100%|██████████| 63/63 [01:13<00:00,  1.16s/img, accuracy (batch)=0.971, loss (batch)=0.115]\n",
      "Epoch 115/200: 100%|██████████| 63/63 [01:13<00:00,  1.17s/img, accuracy (batch)=0.972, loss (batch)=0.114]\n",
      "Epoch 116/200: 100%|██████████| 63/63 [01:14<00:00,  1.19s/img, accuracy (batch)=0.972, loss (batch)=0.113]\n",
      "Epoch 117/200: 100%|██████████| 63/63 [01:14<00:00,  1.19s/img, accuracy (batch)=0.972, loss (batch)=0.112]\n",
      "Epoch 118/200: 100%|██████████| 63/63 [01:15<00:00,  1.19s/img, accuracy (batch)=0.973, loss (batch)=0.112]\n",
      "Epoch 119/200: 100%|██████████| 63/63 [01:14<00:00,  1.18s/img, accuracy (batch)=0.973, loss (batch)=0.111]\n",
      "Epoch 120/200: 100%|██████████| 63/63 [01:16<00:00,  1.21s/img, accuracy (batch)=0.973, loss (batch)=0.11]\n",
      "Epoch 121/200: 100%|██████████| 63/63 [01:15<00:00,  1.20s/img, accuracy (batch)=0.973, loss (batch)=0.109]\n",
      "Epoch 122/200: 100%|██████████| 63/63 [01:14<00:00,  1.18s/img, accuracy (batch)=0.973, loss (batch)=0.108]\n",
      "Epoch 123/200: 100%|██████████| 63/63 [01:14<00:00,  1.18s/img, accuracy (batch)=0.973, loss (batch)=0.108]\n",
      "Epoch 124/200: 100%|██████████| 63/63 [01:13<00:00,  1.17s/img, accuracy (batch)=0.973, loss (batch)=0.107]\n",
      "Epoch 125/200: 100%|██████████| 63/63 [01:14<00:00,  1.18s/img, accuracy (batch)=0.973, loss (batch)=0.107]\n",
      "Epoch 126/200: 100%|██████████| 63/63 [01:13<00:00,  1.16s/img, accuracy (batch)=0.973, loss (batch)=0.106]\n",
      "Epoch 127/200: 100%|██████████| 63/63 [01:13<00:00,  1.16s/img, accuracy (batch)=0.973, loss (batch)=0.106]\n",
      "Epoch 128/200: 100%|██████████| 63/63 [01:13<00:00,  1.17s/img, accuracy (batch)=0.974, loss (batch)=0.105]\n",
      "Epoch 129/200: 100%|██████████| 63/63 [01:13<00:00,  1.17s/img, accuracy (batch)=0.974, loss (batch)=0.104]\n",
      "Epoch 130/200: 100%|██████████| 63/63 [01:14<00:00,  1.18s/img, accuracy (batch)=0.974, loss (batch)=0.104]\n",
      "Epoch 131/200: 100%|██████████| 63/63 [01:14<00:00,  1.18s/img, accuracy (batch)=0.974, loss (batch)=0.103]\n",
      "Epoch 132/200: 100%|██████████| 63/63 [01:13<00:00,  1.17s/img, accuracy (batch)=0.975, loss (batch)=0.102]\n",
      "Epoch 133/200: 100%|██████████| 63/63 [01:14<00:00,  1.18s/img, accuracy (batch)=0.975, loss (batch)=0.102]\n",
      "Epoch 134/200: 100%|██████████| 63/63 [01:13<00:00,  1.17s/img, accuracy (batch)=0.975, loss (batch)=0.101]\n",
      "Epoch 135/200: 100%|██████████| 63/63 [01:14<00:00,  1.18s/img, accuracy (batch)=0.975, loss (batch)=0.101]\n",
      "Epoch 136/200: 100%|██████████| 63/63 [01:14<00:00,  1.18s/img, accuracy (batch)=0.975, loss (batch)=0.1]\n",
      "Epoch 137/200: 100%|██████████| 63/63 [01:16<00:00,  1.21s/img, accuracy (batch)=0.975, loss (batch)=0.0999]\n",
      "Epoch 138/200: 100%|██████████| 63/63 [01:14<00:00,  1.19s/img, accuracy (batch)=0.975, loss (batch)=0.0992]\n",
      "Epoch 139/200: 100%|██████████| 63/63 [01:15<00:00,  1.20s/img, accuracy (batch)=0.975, loss (batch)=0.0982]\n",
      "Epoch 140/200: 100%|██████████| 63/63 [01:14<00:00,  1.19s/img, accuracy (batch)=0.976, loss (batch)=0.0974]\n",
      "Epoch 141/200: 100%|██████████| 63/63 [01:15<00:00,  1.20s/img, accuracy (batch)=0.976, loss (batch)=0.0969]\n",
      "Epoch 142/200: 100%|██████████| 63/63 [01:15<00:00,  1.20s/img, accuracy (batch)=0.976, loss (batch)=0.0963]\n",
      "Epoch 143/200: 100%|██████████| 63/63 [01:14<00:00,  1.19s/img, accuracy (batch)=0.976, loss (batch)=0.0957]\n",
      "Epoch 144/200: 100%|██████████| 63/63 [01:14<00:00,  1.18s/img, accuracy (batch)=0.976, loss (batch)=0.0952]\n",
      "Epoch 145/200: 100%|██████████| 63/63 [01:14<00:00,  1.18s/img, accuracy (batch)=0.976, loss (batch)=0.0945]\n",
      "Epoch 146/200: 100%|██████████| 63/63 [01:13<00:00,  1.17s/img, accuracy (batch)=0.976, loss (batch)=0.094]\n",
      "Epoch 147/200: 100%|██████████| 63/63 [01:13<00:00,  1.17s/img, accuracy (batch)=0.976, loss (batch)=0.0935]\n",
      "Epoch 148/200: 100%|██████████| 63/63 [01:13<00:00,  1.16s/img, accuracy (batch)=0.976, loss (batch)=0.093]\n",
      "Epoch 149/200: 100%|██████████| 63/63 [01:13<00:00,  1.17s/img, accuracy (batch)=0.976, loss (batch)=0.0924]\n",
      "Epoch 150/200: 100%|██████████| 63/63 [01:13<00:00,  1.17s/img, accuracy (batch)=0.977, loss (batch)=0.0917]\n",
      "Epoch 151/200: 100%|██████████| 63/63 [01:13<00:00,  1.16s/img, accuracy (batch)=0.977, loss (batch)=0.0911]\n",
      "Epoch 152/200: 100%|██████████| 63/63 [01:13<00:00,  1.17s/img, accuracy (batch)=0.977, loss (batch)=0.0904]\n",
      "Epoch 153/200: 100%|██████████| 63/63 [01:12<00:00,  1.16s/img, accuracy (batch)=0.977, loss (batch)=0.0898]\n",
      "Epoch 154/200: 100%|██████████| 63/63 [01:14<00:00,  1.18s/img, accuracy (batch)=0.977, loss (batch)=0.0893]\n",
      "Epoch 155/200: 100%|██████████| 63/63 [01:15<00:00,  1.20s/img, accuracy (batch)=0.977, loss (batch)=0.0889]\n",
      "Epoch 156/200: 100%|██████████| 63/63 [01:15<00:00,  1.20s/img, accuracy (batch)=0.977, loss (batch)=0.0884]\n",
      "Epoch 157/200: 100%|██████████| 63/63 [01:14<00:00,  1.18s/img, accuracy (batch)=0.977, loss (batch)=0.0878]\n",
      "Epoch 158/200: 100%|██████████| 63/63 [01:14<00:00,  1.18s/img, accuracy (batch)=0.978, loss (batch)=0.0872]\n",
      "Epoch 159/200: 100%|██████████| 63/63 [01:15<00:00,  1.21s/img, accuracy (batch)=0.978, loss (batch)=0.0866]\n",
      "Epoch 160/200: 100%|██████████| 63/63 [01:16<00:00,  1.22s/img, accuracy (batch)=0.978, loss (batch)=0.0861]\n",
      "Epoch 161/200: 100%|██████████| 63/63 [01:14<00:00,  1.18s/img, accuracy (batch)=0.978, loss (batch)=0.0857]\n",
      "Epoch 162/200: 100%|██████████| 63/63 [01:13<00:00,  1.17s/img, accuracy (batch)=0.978, loss (batch)=0.0852]\n",
      "Epoch 163/200: 100%|██████████| 63/63 [01:13<00:00,  1.17s/img, accuracy (batch)=0.978, loss (batch)=0.0846]\n",
      "Epoch 164/200: 100%|██████████| 63/63 [01:14<00:00,  1.18s/img, accuracy (batch)=0.978, loss (batch)=0.0841]\n",
      "Epoch 165/200: 100%|██████████| 63/63 [01:13<00:00,  1.16s/img, accuracy (batch)=0.978, loss (batch)=0.0838]\n",
      "Epoch 166/200: 100%|██████████| 63/63 [01:14<00:00,  1.18s/img, accuracy (batch)=0.978, loss (batch)=0.0836]\n",
      "Epoch 167/200: 100%|██████████| 63/63 [01:13<00:00,  1.17s/img, accuracy (batch)=0.978, loss (batch)=0.0835]\n",
      "Epoch 168/200: 100%|██████████| 63/63 [01:13<00:00,  1.16s/img, accuracy (batch)=0.978, loss (batch)=0.0831]\n",
      "Epoch 169/200: 100%|██████████| 63/63 [01:14<00:00,  1.18s/img, accuracy (batch)=0.978, loss (batch)=0.0826]\n",
      "Epoch 170/200: 100%|██████████| 63/63 [01:13<00:00,  1.16s/img, accuracy (batch)=0.979, loss (batch)=0.0823]\n",
      "Epoch 171/200: 100%|██████████| 63/63 [01:13<00:00,  1.16s/img, accuracy (batch)=0.979, loss (batch)=0.0819]\n",
      "Epoch 172/200: 100%|██████████| 63/63 [01:13<00:00,  1.16s/img, accuracy (batch)=0.979, loss (batch)=0.0815]\n",
      "Epoch 173/200: 100%|██████████| 63/63 [01:13<00:00,  1.17s/img, accuracy (batch)=0.979, loss (batch)=0.0811]\n",
      "Epoch 174/200: 100%|██████████| 63/63 [01:14<00:00,  1.18s/img, accuracy (batch)=0.979, loss (batch)=0.0806]\n",
      "Epoch 175/200: 100%|██████████| 63/63 [01:15<00:00,  1.20s/img, accuracy (batch)=0.979, loss (batch)=0.0802]\n",
      "Epoch 176/200: 100%|██████████| 63/63 [01:15<00:00,  1.19s/img, accuracy (batch)=0.979, loss (batch)=0.0797]\n",
      "Epoch 177/200: 100%|██████████| 63/63 [01:14<00:00,  1.19s/img, accuracy (batch)=0.979, loss (batch)=0.0793]\n",
      "Epoch 178/200: 100%|██████████| 63/63 [01:14<00:00,  1.19s/img, accuracy (batch)=0.98, loss (batch)=0.0789]\n",
      "Epoch 179/200: 100%|██████████| 63/63 [01:15<00:00,  1.19s/img, accuracy (batch)=0.98, loss (batch)=0.0786]\n",
      "Epoch 180/200: 100%|██████████| 63/63 [01:15<00:00,  1.20s/img, accuracy (batch)=0.98, loss (batch)=0.0784]\n",
      "Epoch 181/200: 100%|██████████| 63/63 [01:15<00:00,  1.20s/img, accuracy (batch)=0.98, loss (batch)=0.078]\n",
      "Epoch 182/200: 100%|██████████| 63/63 [01:14<00:00,  1.18s/img, accuracy (batch)=0.98, loss (batch)=0.0776]\n",
      "Epoch 183/200: 100%|██████████| 63/63 [01:14<00:00,  1.18s/img, accuracy (batch)=0.98, loss (batch)=0.0771]\n",
      "Epoch 184/200: 100%|██████████| 63/63 [01:13<00:00,  1.16s/img, accuracy (batch)=0.98, loss (batch)=0.0768]\n",
      "Epoch 185/200: 100%|██████████| 63/63 [01:14<00:00,  1.18s/img, accuracy (batch)=0.98, loss (batch)=0.0763]\n",
      "Epoch 186/200: 100%|██████████| 63/63 [01:13<00:00,  1.17s/img, accuracy (batch)=0.98, loss (batch)=0.0758]\n",
      "Epoch 187/200: 100%|██████████| 63/63 [01:13<00:00,  1.16s/img, accuracy (batch)=0.98, loss (batch)=0.0754]\n",
      "Epoch 188/200: 100%|██████████| 63/63 [01:13<00:00,  1.16s/img, accuracy (batch)=0.98, loss (batch)=0.0751]\n",
      "Epoch 189/200: 100%|██████████| 63/63 [01:13<00:00,  1.17s/img, accuracy (batch)=0.981, loss (batch)=0.0749]\n",
      "Epoch 190/200: 100%|██████████| 63/63 [01:13<00:00,  1.16s/img, accuracy (batch)=0.981, loss (batch)=0.0746]\n",
      "Epoch 191/200: 100%|██████████| 63/63 [01:13<00:00,  1.16s/img, accuracy (batch)=0.981, loss (batch)=0.0742]\n",
      "Epoch 192/200: 100%|██████████| 63/63 [01:14<00:00,  1.18s/img, accuracy (batch)=0.981, loss (batch)=0.0738]\n",
      "Epoch 193/200: 100%|██████████| 63/63 [01:14<00:00,  1.19s/img, accuracy (batch)=0.981, loss (batch)=0.0735]\n",
      "Epoch 194/200: 100%|██████████| 63/63 [01:14<00:00,  1.18s/img, accuracy (batch)=0.981, loss (batch)=0.0733]\n",
      "Epoch 195/200: 100%|██████████| 63/63 [01:14<00:00,  1.19s/img, accuracy (batch)=0.981, loss (batch)=0.073]\n",
      "Epoch 196/200: 100%|██████████| 63/63 [01:15<00:00,  1.19s/img, accuracy (batch)=0.981, loss (batch)=0.0726]\n",
      "Epoch 197/200: 100%|██████████| 63/63 [01:15<00:00,  1.19s/img, accuracy (batch)=0.981, loss (batch)=0.0722]\n",
      "Epoch 198/200: 100%|██████████| 63/63 [01:13<00:00,  1.17s/img, accuracy (batch)=0.981, loss (batch)=0.072]\n",
      "Epoch 199/200: 100%|██████████| 63/63 [01:14<00:00,  1.18s/img, accuracy (batch)=0.981, loss (batch)=0.0717]\n",
      "Epoch 200/200: 100%|██████████| 63/63 [01:14<00:00,  1.17s/img, accuracy (batch)=0.981, loss (batch)=0.0714]\n"
     ]
    }
   ],
   "source": [
    "train_acc, epoch_loss = train()"
   ]
  },
  {
   "cell_type": "code",
   "execution_count": 14,
   "metadata": {},
   "outputs": [
    {
     "data": {
      "text/html": [
       "Finishing last run (ID:2bns26aq) before initializing another..."
      ],
      "text/plain": [
       "<IPython.core.display.HTML object>"
      ]
     },
     "metadata": {},
     "output_type": "display_data"
    },
    {
     "data": {
      "text/html": [
       "Waiting for W&B process to finish... <strong style=\"color:green\">(success).</strong>"
      ],
      "text/plain": [
       "<IPython.core.display.HTML object>"
      ]
     },
     "metadata": {},
     "output_type": "display_data"
    },
    {
     "data": {
      "text/html": [
       "<style>\n",
       "    table.wandb td:nth-child(1) { padding: 0 10px; text-align: left ; width: auto;} td:nth-child(2) {text-align: left ; width: 100%}\n",
       "    .wandb-row { display: flex; flex-direction: row; flex-wrap: wrap; justify-content: flex-start; width: 100% }\n",
       "    .wandb-col { display: flex; flex-direction: column; flex-basis: 100%; flex: 1; padding: 10px; }\n",
       "    </style>\n",
       "<div class=\"wandb-row\"><div class=\"wandb-col\"><h3>Run history:</h3><br/><table class=\"wandb\"><tr><td>epoch</td><td>▁▁▁▁▂▂▂▂▂▃▃▃▃▃▃▄▄▄▄▄▅▅▅▅▅▅▆▆▆▆▆▇▇▇▇▇▇███</td></tr><tr><td>step</td><td>▁▁▁▁▁▁▁▁▁▁▁▁▁▁▁▁▁▁▁▁▁▁▁▁▁▁▁▁▁▁▁▁▁▁▁▁▁▁▁▁</td></tr><tr><td>train loss</td><td>█▆▄▄▃▃▃▂▂▂▂▂▂▂▂▂▂▂▁▁▁▁▁▁▁▁▁▁▁▁▁▁▁▁▁▁▁▁▁▁</td></tr></table><br/></div><div class=\"wandb-col\"><h3>Run summary:</h3><br/><table class=\"wandb\"><tr><td>epoch</td><td>200</td></tr><tr><td>step</td><td>1</td></tr><tr><td>train loss</td><td>0.07138</td></tr></table><br/></div></div>"
      ],
      "text/plain": [
       "<IPython.core.display.HTML object>"
      ]
     },
     "metadata": {},
     "output_type": "display_data"
    },
    {
     "data": {
      "text/html": [
       "Synced <strong style=\"color:#cdcd00\">expert-vortex-27</strong>: <a href=\"https://wandb.ai/anony-moose-378003133848583373/U-Net/runs/2bns26aq?apiKey=51c8a6f6bc4ee2dd5adffecc14e6c77daa3baa2f\" target=\"_blank\">https://wandb.ai/anony-moose-378003133848583373/U-Net/runs/2bns26aq?apiKey=51c8a6f6bc4ee2dd5adffecc14e6c77daa3baa2f</a><br/>Synced 6 W&B file(s), 0 media file(s), 0 artifact file(s) and 0 other file(s)"
      ],
      "text/plain": [
       "<IPython.core.display.HTML object>"
      ]
     },
     "metadata": {},
     "output_type": "display_data"
    },
    {
     "data": {
      "text/html": [
       "Find logs at: <code>./wandb/run-20230713_023334-2bns26aq/logs</code>"
      ],
      "text/plain": [
       "<IPython.core.display.HTML object>"
      ]
     },
     "metadata": {},
     "output_type": "display_data"
    },
    {
     "data": {
      "text/html": [
       "Successfully finished last run (ID:2bns26aq). Initializing new run:<br/>"
      ],
      "text/plain": [
       "<IPython.core.display.HTML object>"
      ]
     },
     "metadata": {},
     "output_type": "display_data"
    },
    {
     "data": {
      "application/vnd.jupyter.widget-view+json": {
       "model_id": "8f9ff745b14b4ce29c04d9de4562116c",
       "version_major": 2,
       "version_minor": 0
      },
      "text/plain": [
       "VBox(children=(Label(value='Waiting for wandb.init()...\\r'), FloatProgress(value=0.016751738199188064, max=1.0…"
      ]
     },
     "metadata": {},
     "output_type": "display_data"
    },
    {
     "data": {
      "text/html": [
       "wandb version 0.15.5 is available!  To upgrade, please run:\n",
       " $ pip install wandb --upgrade"
      ],
      "text/plain": [
       "<IPython.core.display.HTML object>"
      ]
     },
     "metadata": {},
     "output_type": "display_data"
    },
    {
     "data": {
      "text/html": [
       "Tracking run with wandb version 0.13.5"
      ],
      "text/plain": [
       "<IPython.core.display.HTML object>"
      ]
     },
     "metadata": {},
     "output_type": "display_data"
    },
    {
     "data": {
      "text/html": [
       "Run data is saved locally in <code>/Users/siruiwang/Documents/ESPACE-LECTURE/3rd_semester/Big_Geospatial_Data/Pytorch-UNet/wandb/run-20230713_111257-103iumrl</code>"
      ],
      "text/plain": [
       "<IPython.core.display.HTML object>"
      ]
     },
     "metadata": {},
     "output_type": "display_data"
    },
    {
     "data": {
      "text/html": [
       "Syncing run <strong><a href=\"https://wandb.ai/anony-moose-378003133848583373/U-Net/runs/103iumrl?apiKey=51c8a6f6bc4ee2dd5adffecc14e6c77daa3baa2f\" target=\"_blank\">elated-waterfall-28</a></strong> to <a href=\"https://wandb.ai/anony-moose-378003133848583373/U-Net?apiKey=51c8a6f6bc4ee2dd5adffecc14e6c77daa3baa2f\" target=\"_blank\">Weights & Biases</a> (<a href=\"https://wandb.me/run\" target=\"_blank\">docs</a>)<br/>"
      ],
      "text/plain": [
       "<IPython.core.display.HTML object>"
      ]
     },
     "metadata": {},
     "output_type": "display_data"
    }
   ],
   "source": [
    "experiment = wandb.init(project='U-Net', resume='allow', anonymous='must')\n",
    "experiment.config.update(\n",
    "        dict(epochs=epochs, batch_size=batch_size, learning_rate=learning_rate,\n",
    "                   val_percent=val_percent, save_checkpoint=save_checkpoint, img_scale=img_scale, amp=amp)\n",
    "        )\n"
   ]
  },
  {
   "cell_type": "code",
   "execution_count": 17,
   "metadata": {},
   "outputs": [],
   "source": [
    "from utils.dice_score import multiclass_dice_coeff, dice_coeff\n",
    "def evaluate(net, device, amp):\n",
    "    net.eval()\n",
    "    num_val_batches = num_val\n",
    "    dice_score = 0\n",
    "\n",
    "    # iterate over the validation set\n",
    "    with torch.autocast(device.type if device.type != 'mps' else 'cpu', enabled=amp):\n",
    "        with tqdm(total=num_val_batches, desc='Validation round', unit='img', leave=False):\n",
    "            image, mask_true = val_data, val_mask\n",
    "\n",
    "            # move images and labels to correct device and type\n",
    "            image = image.to(device=device, dtype=torch.float32, memory_format=torch.channels_last)\n",
    "            mask_true = mask_true.to(device=device, dtype=torch.long)\n",
    "\n",
    "            # predict the mask\n",
    "            mask_pred = net(image)\n",
    "            pred= mask_pred.argmax(dim=1)\n",
    "            if net.n_classes == 1:\n",
    "                assert mask_true.min() >= 0 and mask_true.max() <= 1, 'True mask indices should be in [0, 1]'\n",
    "                mask_pred = (F.sigmoid(mask_pred) > 0.5).float()\n",
    "                # compute the Dice score\n",
    "                dice_score += dice_coeff(mask_pred, mask_true, reduce_batch_first=False)\n",
    "            else:\n",
    "                assert mask_true.min() >= 0 and mask_true.max() < net.n_classes, 'True mask indices should be in [0, n_classes['\n",
    "                # convert to one-hot format\n",
    "                mask_true = F.one_hot(mask_true, net.n_classes).permute(0, 3, 1, 2).float()\n",
    "                mask_pred = F.one_hot(mask_pred.argmax(dim=1), net.n_classes).permute(0, 3, 1, 2).float()\n",
    "                # compute the Dice score, ignoring background\n",
    "                dice_score += multiclass_dice_coeff(mask_pred[:, 1:], mask_true[:, 1:], reduce_batch_first=False)\n",
    "                val_accuracy = (mask_pred == mask_true).float().mean()\n",
    "    print(mask_pred.shape)\n",
    "    net.train()\n",
    "    return dice_score / max(num_val_batches, 1) , val_accuracy , mask_pred, mask_true, pred"
   ]
  },
  {
   "cell_type": "code",
   "execution_count": 18,
   "metadata": {},
   "outputs": [
    {
     "name": "stderr",
     "output_type": "stream",
     "text": [
      "                                                        "
     ]
    },
    {
     "name": "stdout",
     "output_type": "stream",
     "text": [
      "torch.Size([6, 2, 256, 256])\n",
      "Dice score: 0.082, Accuracy: 0.863\n"
     ]
    },
    {
     "name": "stderr",
     "output_type": "stream",
     "text": [
      "\r"
     ]
    }
   ],
   "source": [
    "dice_score, val_accuracy, mask_pred, mask_true,  pred = evaluate(model, device, amp)\n",
    "print(f'Dice score: {dice_score.item():.3f}, Accuracy: {val_accuracy.item():.3f}')"
   ]
  },
  {
   "cell_type": "code",
   "execution_count": null,
   "metadata": {},
   "outputs": [],
   "source": [
    "t=torch.argmax(mask_pred, dim=1"
   ]
  },
  {
   "cell_type": "code",
   "execution_count": 22,
   "metadata": {},
   "outputs": [
    {
     "data": {
      "image/png": "[encoded data removed]",
      "text/plain": [
       "<Figure size 640x480 with 3 Axes>"
      ]
     },
     "metadata": {},
     "output_type": "display_data"
    }
   ],
   "source": [
    "import matplotlib.pyplot as plt\n",
    "plt.subplot(1, 3, 1)\n",
    "image=val_data[3,:,:,:].cpu().numpy().transpose(1, 2, 0)\n",
    "plt.imshow(image[:,:,0])\n",
    "plt.title('Image')\n",
    "plt.subplot(1, 3, 2)\n",
    "result=mask_pred[3,1,:,:].cpu().numpy()\n",
    "plt.imshow(result)\n",
    "plt.title('Predicted mask')\n",
    "plt.subplot(1, 3, 3)\n",
    "plt.imshow(mask_true[3,1,:,:].cpu().numpy())\n",
    "plt.title('True mask')\n",
    "\n",
    "plt.show()\n",
    "\n"
   ]
  }
 ],
 "metadata": {
  "kernelspec": {
   "display_name": "M1Max",
   "language": "python",
   "name": "python3"
  },
  "language_info": {
   "codemirror_mode": {
    "name": "ipython",
    "version": 3
   },
   "file_extension": ".py",
   "mimetype": "text/x-python",
   "name": "python",
   "nbconvert_exporter": "python",
   "pygments_lexer": "ipython3",
   "version": "3.10.12"
  },
  "orig_nbformat": 4
 },
 "nbformat": 4,
 "nbformat_minor": 2
}
